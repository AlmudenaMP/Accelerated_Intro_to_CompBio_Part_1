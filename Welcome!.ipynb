{
 "cells": [
  {
   "cell_type": "markdown",
   "metadata": {},
   "source": [
    "# Welcome to the Accelerated Introduction to Computational Biology Course\n",
    "\n"
   ]
  },
  {
   "cell_type": "markdown",
   "metadata": {},
   "source": [
    "Me:  Mark D Wilkinson\n",
    "\n",
    "Location:  CBGP CsBGP Laboratory\n",
    "\n",
    "Phone: +34 913364592\n"
   ]
  },
  {
   "cell_type": "markdown",
   "metadata": {},
   "source": [
    "# Objectives for the next 2 days\n",
    "\n",
    " 1. Setting-up your Virtual Machine\n",
    " 2. The Linux Operating System - basic basics\n",
    " 3. GitHub - getting this course!\n"
   ]
  },
  {
   "cell_type": "markdown",
   "metadata": {},
   "source": [
    "# Your Virtual Machine\n",
    "\n",
    "    $ lsb_release -a\n",
    "    No LSB modules are available.\n",
    "    Distributor ID:\tLinuxMint\n",
    "    Description:\tLinux Mint 18.3 Sylvia\n",
    "    Release:\t18.3\n",
    "    Codename:\tsylvia\n",
    "\n",
    "### Main components\n",
    "\n",
    "Linux Mint 18 features Cinnamon 3.0, MDM 2.0, a Linux kernel 4.4 and an *Ubuntu 16.04* package base.\n",
    "    \n",
    "\n",
    "### General Description\n",
    "\n",
    "(adapted from Rajesh Namase, https://www.techlila.com/introduction-linux-operating-system/ and The Linux Foundation \n",
    "https://www.edx.org/course/introduction-linux-linuxfoundationx-lfs101x-1)\n",
    "\n",
    "Linus Torvalds was a Helsinki university student who liked playing around with software and computers.  In 1991 he announced the creation of a new core operating system that he had named Linux. Linux powers 94% of the world’s supercomputers, most of the servers powering the Internet, and a billion+ Android devices. 97% of managers reported that they will prioritize hiring employees competent in Linux relative to other skills areas.  Linux is particularly suitable for businesses with small IT budgets (like scientific laboratories!!!!). Linux is free to use and install, and is extremely stable and reliable (no blue screen of death!).\n",
    "\n",
    "### Linux Mint 18\n",
    "\n",
    "Unlike Windows, there are MAAAAAAAANY different interfaces (\"shells\"), distributions, and \"flavours\" of Linux.  Obvoiusly, the shell that is on your Android phone is very different from the shell you are using now (Mint 18).  Note that there are also many different shells for your phone!  Linux will also be embedded in devices like Raspberry PI, your wifi router, your Smart TV, entertainment systems in your car, and spacecraft.  Linux can be very very small - there are distributions of Linux that will run in as little as 3MB of RAM!\n",
    "\n",
    "Mint 18 is a very rich desktop interface.  It works like Mac/Windows - drag/drop, left/right click - menu bar (at teh bottom of the screen).  The main menu is at the bottom left.  Applications are sorted based on their general type.  Mint comes with Libre Office (like MS Office, but free!), Firefox web browser, and a wide range of basic utilities like PDF file readers, etc.  I have installed Komodo Edit (an editor for writing software) and the icon for this is on your desktop.\n",
    "\n",
    "One of the main icons you will need to know is in the icon bar of the bottom right.  It's a black icon that looks like a terminal window.  Open that now.  You will notice that it is slightly transparent - I like it that way, but you can change this if you don't.  \n",
    "\n",
    "The \"command prompt\" is the flashing box.  By default, Mint 18 tells you:\n",
    "    \n",
    "    Your username\n",
    "    Your current \"location\" in the filesystem\n",
    "    The command prompt ('$')\n",
    "    \n",
    "    e.g. osboxes@osboxes ~ $\n",
    "    \n",
    "Type:  \"cd Course\" and press Enter.  Your command prompt now changes to:\n",
    "\n",
    "    osboxes@osboxes ~/Course $\n",
    "\n",
    "Autocomplete is a common feature in most Linux distributions, and is activated by pressing the 'Tab' key.  Autocomplete is \"smart\" in that it will select either an app (in the context where you need an app) or a file-name (in the context where you need a filename).  Try this:\n",
    "\n",
    "    osboxes@osboxes ~/Course $ fire                 (now press Tab)\n",
    "    \n",
    "    osboxes@osboxes ~/Course $ firefox              (now press Tab again)\n",
    "    \n",
    "    osboxes@osboxes ~/Course $ firefox Accelerated_Intro_to_CompBio_Part_1/\n",
    "    \n",
    "Remember this!   It's a very cool trick that will speed-up your typing!!!\n",
    "\n",
    "To go back to your \"home\" directory, type 'cd ~'\n",
    "\n",
    "    osboxes@osboxes ~/Course $ cd ~\n",
    "\n",
    " \n"
   ]
  }
 ],
 "metadata": {
  "kernelspec": {
   "display_name": "Bash",
   "language": "bash",
   "name": "bash"
  },
  "language_info": {
   "codemirror_mode": "shell",
   "file_extension": ".sh",
   "mimetype": "text/x-sh",
   "name": "bash"
  }
 },
 "nbformat": 4,
 "nbformat_minor": 2
}
